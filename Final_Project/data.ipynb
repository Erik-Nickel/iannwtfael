{
 "cells": [
  {
   "cell_type": "markdown",
   "metadata": {
    "tags": []
   },
   "source": [
    "# Preprosseing notebook for the recipe data\n",
    "During the preprossesing we combine multiple data sources and bring the data into a workable format."
   ]
  },
  {
   "cell_type": "code",
   "execution_count": null,
   "metadata": {
    "id": "hGsmJArYkWmz"
   },
   "outputs": [],
   "source": [
    "import pandas as pd\n",
    "import pickle"
   ]
  },
  {
   "cell_type": "code",
   "execution_count": null,
   "metadata": {
    "colab": {
     "base_uri": "https://localhost:8080/",
     "height": 395
    },
    "id": "6gDMljyskFqE",
    "outputId": "de6ec154-2f0f-44ae-a60c-b1eede8349de"
   },
   "outputs": [],
   "source": [
    "# load csv\n",
    "inter_raw = pd.read_csv('../../data/RAW_interactions.csv')\n",
    "recipes_raw = pd.read_csv('../../data/RAW_recipes.csv')\n",
    "recipies_pp = pd.read_csv('../../data/PP_recipes.csv')"
   ]
  },
  {
   "cell_type": "code",
   "execution_count": null,
   "metadata": {},
   "outputs": [],
   "source": [
    "# loading pkl to get an idea of the ingredients mapping\n",
    "with open('../../data/ingr_map.pkl', 'rb') as f:\n",
    "    ingr_map = pickle.load(f)"
   ]
  },
  {
   "cell_type": "code",
   "execution_count": null,
   "metadata": {},
   "outputs": [],
   "source": [
    "ingr_map"
   ]
  },
  {
   "cell_type": "code",
   "execution_count": null,
   "metadata": {},
   "outputs": [],
   "source": [
    "#ingr_map.value_counts('id')\n",
    "ingr_map.sort_values('id')"
   ]
  },
  {
   "cell_type": "code",
   "execution_count": null,
   "metadata": {},
   "outputs": [],
   "source": [
    "# id range: 0 - 8022\n",
    "ingr_map.describe()"
   ]
  },
  {
   "cell_type": "code",
   "execution_count": null,
   "metadata": {},
   "outputs": [],
   "source": [
    "recipies_pp.head()"
   ]
  },
  {
   "cell_type": "code",
   "execution_count": null,
   "metadata": {
    "colab": {
     "base_uri": "https://localhost:8080/",
     "height": 337
    },
    "id": "ILab2CPGBxcK",
    "outputId": "ac900be0-9539-4876-e1a2-d4e4cc67df6c"
   },
   "outputs": [],
   "source": [
    "recipies_pp.describe()\n"
   ]
  },
  {
   "cell_type": "code",
   "execution_count": null,
   "metadata": {
    "id": "JEehHamvCpDM"
   },
   "outputs": [],
   "source": [
    "recipies_pp['recipe_id'] = recipies_pp.pop('id')"
   ]
  },
  {
   "cell_type": "code",
   "execution_count": null,
   "metadata": {
    "colab": {
     "base_uri": "https://localhost:8080/",
     "height": 206
    },
    "id": "BA5DbDWIlEux",
    "outputId": "5921b690-dd6c-43de-b245-10afdfa1e060"
   },
   "outputs": [],
   "source": [
    "inter_raw.head()"
   ]
  },
  {
   "cell_type": "code",
   "execution_count": null,
   "metadata": {},
   "outputs": [],
   "source": [
    "inter_raw.describe()"
   ]
  },
  {
   "cell_type": "code",
   "execution_count": null,
   "metadata": {
    "colab": {
     "base_uri": "https://localhost:8080/",
     "height": 354
    },
    "id": "iVcZ8GMslE4Q",
    "outputId": "3a508bed-d103-4063-d5f7-f6c07c2e4001"
   },
   "outputs": [],
   "source": [
    "recipes_raw.describe()"
   ]
  },
  {
   "cell_type": "code",
   "execution_count": null,
   "metadata": {
    "id": "JsvoeuNwlE8K"
   },
   "outputs": [],
   "source": [
    "recipes_raw['recipe_id'] = recipes_raw.pop('id')"
   ]
  },
  {
   "cell_type": "code",
   "execution_count": null,
   "metadata": {
    "id": "v4Dc1V52lE_T"
   },
   "outputs": [],
   "source": [
    "omni_raw = pd.merge(recipes_raw, inter_raw, on='recipe_id')"
   ]
  },
  {
   "cell_type": "code",
   "execution_count": null,
   "metadata": {},
   "outputs": [],
   "source": [
    "omni_raw.describe()"
   ]
  },
  {
   "cell_type": "code",
   "execution_count": null,
   "metadata": {},
   "outputs": [],
   "source": [
    "omni_raw['recipe_features'] = omni_raw[['minutes', 'n_steps', 'n_ingredients']].values.tolist()\n",
    "omni_raw = omni_raw.drop(\n",
    "    ['minutes', 'n_steps', 'n_ingredients', 'name', 'contributor_id', 'submitted', 'tags', 'nutrition', 'steps',\n",
    "     'description', 'review', 'ingredients'], axis=1)\n",
    "omni_raw.head()"
   ]
  },
  {
   "cell_type": "code",
   "execution_count": null,
   "metadata": {},
   "outputs": [],
   "source": [
    "omni_raw.describe()"
   ]
  },
  {
   "cell_type": "code",
   "execution_count": null,
   "metadata": {},
   "outputs": [],
   "source": [
    "omni_raw = pd.merge(omni_raw, recipies_pp.drop(\n",
    "    ['i', 'name_tokens', 'steps_tokens', 'techniques', 'calorie_level', 'ingredient_tokens', ], axis=1), on='recipe_id')\n",
    "omni_raw.head()"
   ]
  },
  {
   "cell_type": "code",
   "execution_count": null,
   "metadata": {},
   "outputs": [],
   "source": [
    "omni_raw.describe()"
   ]
  },
  {
   "cell_type": "code",
   "execution_count": null,
   "metadata": {},
   "outputs": [],
   "source": [
    "omni_raw = omni_raw[omni_raw.rating >= 4].drop(['rating'], axis=1)\n",
    "omni_raw.head()"
   ]
  },
  {
   "cell_type": "code",
   "execution_count": null,
   "metadata": {},
   "outputs": [],
   "source": [
    "omni_raw = omni_raw.sort_values(['user_id', 'date'])\n",
    "omni_raw.head()"
   ]
  },
  {
   "cell_type": "code",
   "execution_count": null,
   "metadata": {},
   "outputs": [],
   "source": [
    "omni_raw.describe()"
   ]
  },
  {
   "cell_type": "code",
   "execution_count": null,
   "metadata": {},
   "outputs": [],
   "source": [
    "omni_raw.value_counts('user_id')"
   ]
  },
  {
   "cell_type": "code",
   "execution_count": null,
   "metadata": {},
   "outputs": [],
   "source": [
    "omni_raw.describe()"
   ]
  },
  {
   "cell_type": "code",
   "execution_count": null,
   "metadata": {},
   "outputs": [],
   "source": [
    "omni_raw = omni_raw\n",
    "counts = omni_raw.value_counts('user_id')\n",
    "omni_raw = omni_raw.loc[omni_raw['user_id'].isin(counts.index[counts >= 10])]\n",
    "# omni_raw = omni_raw.loc[omni_raw['user_id'].isin(counts.index[counts <= ])]\n",
    "omni_raw.pop('date')\n",
    "#omni_raw.reset_index()\n",
    "#omni_raw.pop('Index')"
   ]
  },
  {
   "cell_type": "code",
   "execution_count": null,
   "metadata": {},
   "outputs": [],
   "source": [
    "omni_raw.value_counts('user_id')"
   ]
  },
  {
   "cell_type": "code",
   "execution_count": null,
   "metadata": {},
   "outputs": [],
   "source": [
    "dir(omni_raw)"
   ]
  },
  {
   "cell_type": "code",
   "execution_count": null,
   "metadata": {},
   "outputs": [],
   "source": [
    "omni_raw.describe()"
   ]
  },
  {
   "cell_type": "code",
   "execution_count": null,
   "metadata": {},
   "outputs": [],
   "source": [
    "omni_raw.head()"
   ]
  },
  {
   "cell_type": "code",
   "execution_count": null,
   "metadata": {},
   "outputs": [],
   "source": [
    "omni_raw.to_csv('data_pp.csv')"
   ]
  }
 ],
 "metadata": {
  "colab": {
   "collapsed_sections": [],
   "name": "recipe_transformer.ipynb",
   "provenance": []
  },
  "kernelspec": {
   "display_name": "Python 3 (ipykernel)",
   "language": "python",
   "name": "python3"
  },
  "language_info": {
   "codemirror_mode": {
    "name": "ipython",
    "version": 3
   },
   "file_extension": ".py",
   "mimetype": "text/x-python",
   "name": "python",
   "nbconvert_exporter": "python",
   "pygments_lexer": "ipython3",
   "version": "3.9.7"
  },
  "toc-autonumbering": false,
  "toc-showcode": false,
  "toc-showmarkdowntxt": true,
  "toc-showtags": false
 },
 "nbformat": 4,
 "nbformat_minor": 4
}