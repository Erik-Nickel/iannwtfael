{
 "cells": [
  {
   "cell_type": "code",
   "execution_count": null,
   "metadata": {
    "collapsed": false,
    "pycharm": {
     "name": "#%%\n"
    }
   },
   "outputs": [],
   "source": [
    "from FoodRatingDataSet import FoodRatingDataset\n",
    "\n",
    "SEQ_LEN = 5\n",
    "\n",
    "data_set = FoodRatingDataset()\n",
    "\n",
    "#Test\n",
    "from TestDataSet import TestDataSet\n",
    "data_set = TestDataSet()\n",
    "\n",
    "NUM_ING = data_set.NUM_ING\n",
    "OTHER_FEATURES = data_set.OTHER_FEATURES\n",
    "NUM_RECIPES = data_set.NUM_RECIPES"
   ]
  },
  {
   "cell_type": "code",
   "execution_count": null,
   "metadata": {
    "collapsed": false,
    "pycharm": {
     "name": "#%%\n"
    }
   },
   "outputs": [],
   "source": [
    "from FoodRecommenderModelSequence import FoodRecommenderModelSequence\n",
    "import tensorflow as tf\n",
    "import keras\n",
    "\n",
    "ids, ing, ofe = tf.keras.Input(shape=[SEQ_LEN]), tf.keras.Input(shape=[SEQ_LEN, NUM_ING]), tf.keras.Input(\n",
    "    shape=[SEQ_LEN, OTHER_FEATURES])\n",
    "\n",
    "x = FoodRecommenderModelSequence(recipe_count=NUM_RECIPES, seq_len=SEQ_LEN)((ids, ing, ofe))\n",
    "\n",
    "mod = keras.Model((ids, ing, ofe), x)\n",
    "mod.summary()"
   ]
  },
  {
   "cell_type": "code",
   "execution_count": null,
   "metadata": {
    "collapsed": false,
    "pycharm": {
     "name": "#%%\n"
    }
   },
   "outputs": [],
   "source": [
    "%load_ext tensorboard"
   ]
  },
  {
   "cell_type": "code",
   "execution_count": null,
   "metadata": {
    "collapsed": false,
    "pycharm": {
     "name": "#%%\n"
    }
   },
   "outputs": [],
   "source": [
    "from tensorflow.keras.callbacks import TensorBoard\n",
    "import time\n",
    "\n",
    "data = data_set.data()\n",
    "\n",
    "mod = FoodRecommenderModelSequence(recipe_count=NUM_RECIPES, seq_len=SEQ_LEN)\n",
    "mod.compile(loss=tf.keras.losses.MeanSquaredError(), optimizer=tf.keras.optimizers.Adam(learning_rate=0.01), metrics=['accuracy'])\n",
    "\n",
    "tensorboard = TensorBoard(log_dir=f\"logs/recommend_{int(time.time())}\")\n",
    "#mod.fit(data, label, epochs=10, validation_split=0.3, callbacks=[tensorboard])\n",
    "mod.fit(data, epochs=10, callbacks=[tensorboard])"
   ]
  },
  {
   "cell_type": "code",
   "execution_count": null,
   "metadata": {
    "collapsed": false,
    "pycharm": {
     "name": "#%%\n"
    }
   },
   "outputs": [],
   "source": [
    "%tensorboard --logdir logs"
   ]
  },
  {
   "cell_type": "code",
   "execution_count": null,
   "metadata": {
    "collapsed": false,
    "pycharm": {
     "name": "#%%\n"
    }
   },
   "outputs": [],
   "source": [
    "from FoodRecommenderModel import FoodRecommenderModel\n",
    "import tensorflow as tf\n",
    "import keras\n",
    "\n",
    "ids, ing, ofe = tf.keras.Input(shape=[SEQ_LEN]), tf.keras.Input(shape=[SEQ_LEN, NUM_ING]), tf.keras.Input(\n",
    "    shape=[SEQ_LEN, OTHER_FEATURES])\n",
    "tar_id, tar_ing, tar_ofe = tf.keras.Input(shape=[1]), tf.keras.Input(shape=[1, NUM_ING]), tf.keras.Input(\n",
    "    shape=[1, OTHER_FEATURES])\n",
    "\n",
    "x = FoodRecommenderModel()(((ids, ing, ofe), (tar_id, tar_ing, tar_ofe)))\n",
    "\n",
    "mod = keras.Model((ids, ing, ofe, tar_id, tar_ing, tar_ofe), x)\n",
    "mod.summary()\n"
   ]
  },
  {
   "cell_type": "code",
   "execution_count": null,
   "metadata": {
    "collapsed": false,
    "pycharm": {
     "name": "#%%\n"
    }
   },
   "outputs": [],
   "source": [
    "from FoodRecommenderModelSelfAttention import FoodRecommenderModelSelfAttention\n",
    "import tensorflow as tf\n",
    "import keras\n",
    "\n",
    "ids, ing, ofe = tf.keras.Input(shape=[SEQ_LEN]), tf.keras.Input(shape=[SEQ_LEN, NUM_ING]), tf.keras.Input(\n",
    "    shape=[SEQ_LEN, OTHER_FEATURES])\n",
    "tar_id, tar_ing, tar_ofe = tf.keras.Input(shape=[1]), tf.keras.Input(shape=[1, NUM_ING]), tf.keras.Input(\n",
    "    shape=[1, OTHER_FEATURES])\n",
    "\n",
    "x = FoodRecommenderModelSelfAttention()(((ids, ing, ofe), (tar_id, tar_ing, tar_ofe)))\n",
    "\n",
    "mod = keras.Model((ids, ing, ofe, tar_id, tar_ing, tar_ofe), x)\n",
    "mod.summary()\n"
   ]
  }
 ],
 "metadata": {
  "kernelspec": {
   "display_name": "Python 3",
   "language": "python",
   "name": "python3"
  },
  "language_info": {
   "codemirror_mode": {
    "name": "ipython",
    "version": 3
   },
   "file_extension": ".py",
   "mimetype": "text/x-python",
   "name": "python",
   "nbconvert_exporter": "python",
   "pygments_lexer": "ipython3",
   "version": "3.9.7"
  }
 },
 "nbformat": 4,
 "nbformat_minor": 0
}
