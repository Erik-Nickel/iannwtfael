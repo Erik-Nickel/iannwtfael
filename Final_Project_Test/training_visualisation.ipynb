{
 "cells": [
  {
   "cell_type": "code",
   "execution_count": 6,
   "outputs": [
    {
     "name": "stdout",
     "output_type": "stream",
     "text": [
      "Model: \"model_5\"\n",
      "__________________________________________________________________________________________________\n",
      " Layer (type)                   Output Shape         Param #     Connected to                     \n",
      "==================================================================================================\n",
      " input_22 (InputLayer)          [(None, 20)]         0           []                               \n",
      "                                                                                                  \n",
      " input_23 (InputLayer)          [(None, 20, 6000)]   0           []                               \n",
      "                                                                                                  \n",
      " input_24 (InputLayer)          [(None, 20, 3)]      0           []                               \n",
      "                                                                                                  \n",
      " food_recommender_model_sequenc  (19, 100000)        25331044    ['input_22[0][0]',               \n",
      " e_3 (FoodRecommenderModelSeque                                   'input_23[0][0]',               \n",
      " nce)                                                             'input_24[0][0]']               \n",
      "                                                                                                  \n",
      "==================================================================================================\n",
      "Total params: 25,331,044\n",
      "Trainable params: 25,331,044\n",
      "Non-trainable params: 0\n",
      "__________________________________________________________________________________________________\n"
     ]
    }
   ],
   "source": [
    "from FoodRecommenderModelSequence import FoodRecommenderModelSequence\n",
    "import tensorflow as tf\n",
    "import keras\n",
    "\n",
    "ids, ing, ofe = tf.keras.Input(shape=[20]), tf.keras.Input(shape=[20, 6000]), tf.keras.Input(shape=[20, 3])\n",
    "\n",
    "x = FoodRecommenderModelSequence()((ids, ing, ofe))\n",
    "\n",
    "mod = keras.Model((ids, ing, ofe), x)\n",
    "mod.summary()"
   ],
   "metadata": {
    "collapsed": false,
    "pycharm": {
     "name": "#%%\n"
    }
   }
  },
  {
   "cell_type": "code",
   "execution_count": 7,
   "outputs": [
    {
     "name": "stdout",
     "output_type": "stream",
     "text": [
      "Model: \"model_6\"\n",
      "__________________________________________________________________________________________________\n",
      " Layer (type)                   Output Shape         Param #     Connected to                     \n",
      "==================================================================================================\n",
      " input_25 (InputLayer)          [(None, 20)]         0           []                               \n",
      "                                                                                                  \n",
      " input_26 (InputLayer)          [(None, 20, 6000)]   0           []                               \n",
      "                                                                                                  \n",
      " input_27 (InputLayer)          [(None, 20, 3)]      0           []                               \n",
      "                                                                                                  \n",
      " input_28 (InputLayer)          [(None, 1)]          0           []                               \n",
      "                                                                                                  \n",
      " input_29 (InputLayer)          [(None, 1, 6000)]    0           []                               \n",
      "                                                                                                  \n",
      " input_30 (InputLayer)          [(None, 1, 3)]       0           []                               \n",
      "                                                                                                  \n",
      " food_recommender_model_1 (Food  (19, 1)             12992581    ['input_25[0][0]',               \n",
      " RecommenderModel)                                                'input_26[0][0]',               \n",
      "                                                                  'input_27[0][0]',               \n",
      "                                                                  'input_28[0][0]',               \n",
      "                                                                  'input_29[0][0]',               \n",
      "                                                                  'input_30[0][0]']               \n",
      "                                                                                                  \n",
      "==================================================================================================\n",
      "Total params: 12,992,581\n",
      "Trainable params: 12,992,581\n",
      "Non-trainable params: 0\n",
      "__________________________________________________________________________________________________\n"
     ]
    }
   ],
   "source": [
    "from FoodRecommenderModel import FoodRecommenderModel\n",
    "import tensorflow as tf\n",
    "import keras\n",
    "\n",
    "ids, ing, ofe = tf.keras.Input(shape=[20]), tf.keras.Input(shape=[20, 6000]), tf.keras.Input(shape=[20, 3])\n",
    "tar_id, tar_ing, tar_ofe = tf.keras.Input(shape=[1]), tf.keras.Input(shape=[1, 6000]), tf.keras.Input(shape=[1, 3])\n",
    "\n",
    "x = FoodRecommenderModel()(((ids, ing, ofe), (tar_id, tar_ing, tar_ofe)))\n",
    "\n",
    "mod = keras.Model((ids, ing, ofe, tar_id, tar_ing, tar_ofe), x)\n",
    "mod.summary()\n"
   ],
   "metadata": {
    "collapsed": false,
    "pycharm": {
     "name": "#%%\n"
    }
   }
  },
  {
   "cell_type": "code",
   "execution_count": 8,
   "outputs": [
    {
     "name": "stdout",
     "output_type": "stream",
     "text": [
      "Model: \"model_7\"\n",
      "__________________________________________________________________________________________________\n",
      " Layer (type)                   Output Shape         Param #     Connected to                     \n",
      "==================================================================================================\n",
      " input_31 (InputLayer)          [(None, 20)]         0           []                               \n",
      "                                                                                                  \n",
      " input_32 (InputLayer)          [(None, 20, 6000)]   0           []                               \n",
      "                                                                                                  \n",
      " input_33 (InputLayer)          [(None, 20, 3)]      0           []                               \n",
      "                                                                                                  \n",
      " input_34 (InputLayer)          [(None, 1)]          0           []                               \n",
      "                                                                                                  \n",
      " input_35 (InputLayer)          [(None, 1, 6000)]    0           []                               \n",
      "                                                                                                  \n",
      " input_36 (InputLayer)          [(None, 1, 3)]       0           []                               \n",
      "                                                                                                  \n",
      " food_recommender_model_self_at  (None, 1)           12430661    ['input_31[0][0]',               \n",
      " tention_1 (FoodRecommenderMode                                   'input_32[0][0]',               \n",
      " lSelfAttention)                                                  'input_33[0][0]',               \n",
      "                                                                  'input_34[0][0]',               \n",
      "                                                                  'input_35[0][0]',               \n",
      "                                                                  'input_36[0][0]']               \n",
      "                                                                                                  \n",
      "==================================================================================================\n",
      "Total params: 12,430,661\n",
      "Trainable params: 12,430,661\n",
      "Non-trainable params: 0\n",
      "__________________________________________________________________________________________________\n"
     ]
    }
   ],
   "source": [
    "from FoodRecommenderModelSelfAttention import FoodRecommenderModelSelfAttention\n",
    "import tensorflow as tf\n",
    "import keras\n",
    "\n",
    "ids, ing, ofe = tf.keras.Input(shape=[20]), tf.keras.Input(shape=[20, 6000]), tf.keras.Input(shape=[20, 3])\n",
    "tar_id, tar_ing, tar_ofe = tf.keras.Input(shape=[1]), tf.keras.Input(shape=[1, 6000]), tf.keras.Input(shape=[1, 3])\n",
    "\n",
    "x = FoodRecommenderModelSelfAttention()(((ids, ing, ofe), (tar_id, tar_ing, tar_ofe)))\n",
    "\n",
    "mod = keras.Model((ids, ing, ofe, tar_id, tar_ing, tar_ofe), x)\n",
    "mod.summary()\n"
   ],
   "metadata": {
    "collapsed": false,
    "pycharm": {
     "name": "#%%\n"
    }
   }
  }
 ],
 "metadata": {
  "kernelspec": {
   "display_name": "Python 3",
   "language": "python",
   "name": "python3"
  },
  "language_info": {
   "codemirror_mode": {
    "name": "ipython",
    "version": 2
   },
   "file_extension": ".py",
   "mimetype": "text/x-python",
   "name": "python",
   "nbconvert_exporter": "python",
   "pygments_lexer": "ipython2",
   "version": "2.7.6"
  }
 },
 "nbformat": 4,
 "nbformat_minor": 0
}