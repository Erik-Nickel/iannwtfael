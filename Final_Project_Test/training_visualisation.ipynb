{
 "cells": [
  {
   "cell_type": "code",
   "execution_count": null,
   "metadata": {
    "pycharm": {
     "name": "#%%\n"
    }
   },
   "outputs": [],
   "source": [
    "#from FoodRatingDataSet import FoodRatingDataset\n",
    "\n",
    "SEQ_LEN = 5\n",
    "\n",
    "#data_set = FoodRatingDataset()\n",
    "\n",
    "#Test\n",
    "from TestDataSet import TestDataSet\n",
    "\n",
    "data_set = TestDataSet()\n",
    "\n",
    "NUM_ING = data_set.NUM_ING\n",
    "OTHER_FEATURES = data_set.OTHER_FEATURES\n",
    "NUM_RECIPES = data_set.NUM_RECIPES"
   ]
  },
  {
   "cell_type": "code",
   "execution_count": null,
   "metadata": {
    "pycharm": {
     "name": "#%%\n"
    }
   },
   "outputs": [],
   "source": [
    "from FoodRecommenderModelSequence import FoodRecommenderModelSequence\n",
    "import tensorflow as tf\n",
    "import keras\n",
    "\n",
    "ids, ing, ofe = tf.keras.Input(shape=[SEQ_LEN]), tf.keras.Input(shape=[SEQ_LEN, NUM_ING]), tf.keras.Input(\n",
    "    shape=[SEQ_LEN, OTHER_FEATURES])\n",
    "\n",
    "x = FoodRecommenderModelSequence(recipe_count=NUM_RECIPES, seq_len=SEQ_LEN)((ids, ing, ofe))\n",
    "\n",
    "mod = keras.Model((ids, ing, ofe), x)\n",
    "mod.summary()"
   ]
  },
  {
   "cell_type": "code",
   "execution_count": null,
   "metadata": {
    "pycharm": {
     "name": "#%%\n"
    }
   },
   "outputs": [],
   "source": [
    "%load_ext tensorboard\n",
    "%tensorboard --logdir logs"
   ]
  },
  {
   "cell_type": "code",
   "execution_count": null,
   "metadata": {
    "pycharm": {
     "name": "#%%\n"
    }
   },
   "outputs": [],
   "source": [
    "from tensorflow.keras.callbacks import TensorBoard\n",
    "from tensorflow.keras.callbacks import ModelCheckpoint\n",
    "from datetime import datetime\n",
    "import os.path\n",
    "\n",
    "data = data_set.data()\n",
    "\n",
    "mod = FoodRecommenderModelSequence(recipe_count=NUM_RECIPES, seq_len=SEQ_LEN)\n",
    "mod.compile(loss=tf.keras.losses.SparseCategoricalCrossentropy(from_logits=True),\n",
    "            optimizer=tf.keras.optimizers.Adam(learning_rate=0.0001), metrics=['accuracy'])\n",
    "\n",
    "board_file_name = datetime.now().strftime(\"%d%m%Y_%H%M%S\")\n",
    "\n",
    "checkpoints_dir = \"checkpoints/checkpoint\"\n",
    "\n",
    "\n",
    "if os.path.exists(checkpoints_dir):\n",
    "    print(\"load model:\")\n",
    "    board_file_name = f\"{board_file_name}_loaded\"\n",
    "    mod.load_weights(checkpoints_dir)\n",
    "else:\n",
    "    print(\"new model:\")\n",
    "\n",
    "tensorboard = TensorBoard(log_dir=f\"logs/recommend_{board_file_name}\")\n",
    "checkpoints = ModelCheckpoint(filepath=checkpoints_dir, save_weights_only=True)\n",
    "\n",
    "#mod.fit(data, epochs=10, validation_split=0.3, callbacks=[tensorboard, checkpoints])\n",
    "mod.fit(data, epochs=10, callbacks=[tensorboard, checkpoints])"
   ]
  }
 ],
 "metadata": {
  "kernelspec": {
   "display_name": "Python 3",
   "language": "python",
   "name": "python3"
  },
  "language_info": {
   "codemirror_mode": {
    "name": "ipython",
    "version": 3
   },
   "file_extension": ".py",
   "mimetype": "text/x-python",
   "name": "python",
   "nbconvert_exporter": "python",
   "pygments_lexer": "ipython3",
   "version": "3.8.3"
  }
 },
 "nbformat": 4,
 "nbformat_minor": 1
}