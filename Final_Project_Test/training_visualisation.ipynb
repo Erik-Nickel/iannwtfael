{
 "cells": [
  {
   "cell_type": "code",
   "execution_count": 2,
   "outputs": [
    {
     "name": "stdout",
     "output_type": "stream",
     "text": [
      "Model: \"model_1\"\n",
      "__________________________________________________________________________________________________\n",
      " Layer (type)                   Output Shape         Param #     Connected to                     \n",
      "==================================================================================================\n",
      " input_4 (InputLayer)           [(None, 20)]         0           []                               \n",
      "                                                                                                  \n",
      " input_5 (InputLayer)           [(None, 20, 6000)]   0           []                               \n",
      "                                                                                                  \n",
      " input_6 (InputLayer)           [(None, 20, 3)]      0           []                               \n",
      "                                                                                                  \n",
      " food_recommender_model_sequenc  (19, 100000)        25331044    ['input_4[0][0]',                \n",
      " e_1 (FoodRecommenderModelSeque                                   'input_5[0][0]',                \n",
      " nce)                                                             'input_6[0][0]']                \n",
      "                                                                                                  \n",
      "==================================================================================================\n",
      "Total params: 25,331,044\n",
      "Trainable params: 25,331,044\n",
      "Non-trainable params: 0\n",
      "__________________________________________________________________________________________________\n"
     ]
    }
   ],
   "source": [
    "from FoodRecommenderModelSequence import FoodRecommenderModelSequence\n",
    "import tensorflow as tf\n",
    "import keras\n",
    "\n",
    "ids, ing, ofe = tf.keras.Input(shape=[20]), tf.keras.Input(shape=[20, 6000]), tf.keras.Input(shape=[20, 3])\n",
    "\n",
    "x = FoodRecommenderModelSequence()((ids, ing, ofe))\n",
    "\n",
    "mod = keras.Model((ids, ing, ofe), x)\n",
    "mod.summary()"
   ],
   "metadata": {
    "collapsed": false,
    "pycharm": {
     "name": "#%%\n"
    }
   }
  },
  {
   "cell_type": "code",
   "execution_count": 3,
   "outputs": [
    {
     "name": "stdout",
     "output_type": "stream",
     "text": [
      "Model: \"model_2\"\n",
      "__________________________________________________________________________________________________\n",
      " Layer (type)                   Output Shape         Param #     Connected to                     \n",
      "==================================================================================================\n",
      " input_7 (InputLayer)           [(None, 20)]         0           []                               \n",
      "                                                                                                  \n",
      " input_8 (InputLayer)           [(None, 20, 6000)]   0           []                               \n",
      "                                                                                                  \n",
      " input_9 (InputLayer)           [(None, 20, 3)]      0           []                               \n",
      "                                                                                                  \n",
      " input_10 (InputLayer)          [(None, 1)]          0           []                               \n",
      "                                                                                                  \n",
      " input_11 (InputLayer)          [(None, 1, 6000)]    0           []                               \n",
      "                                                                                                  \n",
      " input_12 (InputLayer)          [(None, 1, 3)]       0           []                               \n",
      "                                                                                                  \n",
      " food_recommender_model (FoodRe  (19, 1)             12992581    ['input_7[0][0]',                \n",
      " commenderModel)                                                  'input_8[0][0]',                \n",
      "                                                                  'input_9[0][0]',                \n",
      "                                                                  'input_10[0][0]',               \n",
      "                                                                  'input_11[0][0]',               \n",
      "                                                                  'input_12[0][0]']               \n",
      "                                                                                                  \n",
      "==================================================================================================\n",
      "Total params: 12,992,581\n",
      "Trainable params: 12,992,581\n",
      "Non-trainable params: 0\n",
      "__________________________________________________________________________________________________\n"
     ]
    }
   ],
   "source": [
    "from FoodRecommenderModel import FoodRecommenderModel\n",
    "import tensorflow as tf\n",
    "import keras\n",
    "\n",
    "ids, ing, ofe = tf.keras.Input(shape=[20]), tf.keras.Input(shape=[20, 6000]), tf.keras.Input(shape=[20, 3])\n",
    "tar_id, tar_ing, tar_ofe = tf.keras.Input(shape=[1]), tf.keras.Input(shape=[1, 6000]), tf.keras.Input(shape=[1, 3])\n",
    "\n",
    "x = FoodRecommenderModel()(((ids, ing, ofe), (tar_id, tar_ing, tar_ofe)))\n",
    "\n",
    "mod = keras.Model((ids, ing, ofe, tar_id, tar_ing, tar_ofe), x)\n",
    "mod.summary()\n"
   ],
   "metadata": {
    "collapsed": false,
    "pycharm": {
     "name": "#%%\n"
    }
   }
  },
  {
   "cell_type": "code",
   "execution_count": 4,
   "outputs": [
    {
     "name": "stdout",
     "output_type": "stream",
     "text": [
      "Model: \"model_3\"\n",
      "__________________________________________________________________________________________________\n",
      " Layer (type)                   Output Shape         Param #     Connected to                     \n",
      "==================================================================================================\n",
      " input_13 (InputLayer)          [(None, 20)]         0           []                               \n",
      "                                                                                                  \n",
      " input_14 (InputLayer)          [(None, 20, 6000)]   0           []                               \n",
      "                                                                                                  \n",
      " input_15 (InputLayer)          [(None, 20, 3)]      0           []                               \n",
      "                                                                                                  \n",
      " input_16 (InputLayer)          [(None, 1)]          0           []                               \n",
      "                                                                                                  \n",
      " input_17 (InputLayer)          [(None, 1, 6000)]    0           []                               \n",
      "                                                                                                  \n",
      " input_18 (InputLayer)          [(None, 1, 3)]       0           []                               \n",
      "                                                                                                  \n",
      " food_recommender_model_self_at  (None, 1)           12430661    ['input_13[0][0]',               \n",
      " tention (FoodRecommenderModelS                                   'input_14[0][0]',               \n",
      " elfAttention)                                                    'input_15[0][0]',               \n",
      "                                                                  'input_16[0][0]',               \n",
      "                                                                  'input_17[0][0]',               \n",
      "                                                                  'input_18[0][0]']               \n",
      "                                                                                                  \n",
      "==================================================================================================\n",
      "Total params: 12,430,661\n",
      "Trainable params: 12,430,661\n",
      "Non-trainable params: 0\n",
      "__________________________________________________________________________________________________\n"
     ]
    }
   ],
   "source": [
    "from FoodRecommenderModelSelfAttention import FoodRecommenderModelSelfAttention\n",
    "import tensorflow as tf\n",
    "import keras\n",
    "\n",
    "ids, ing, ofe = tf.keras.Input(shape=[20]), tf.keras.Input(shape=[20, 6000]), tf.keras.Input(shape=[20, 3])\n",
    "tar_id, tar_ing, tar_ofe = tf.keras.Input(shape=[1]), tf.keras.Input(shape=[1, 6000]), tf.keras.Input(shape=[1, 3])\n",
    "\n",
    "x = FoodRecommenderModelSelfAttention()(((ids, ing, ofe), (tar_id, tar_ing, tar_ofe)))\n",
    "\n",
    "mod = keras.Model((ids, ing, ofe, tar_id, tar_ing, tar_ofe), x)\n",
    "mod.summary()\n"
   ],
   "metadata": {
    "collapsed": false,
    "pycharm": {
     "name": "#%%\n"
    }
   }
  }
 ],
 "metadata": {
  "kernelspec": {
   "display_name": "Python 3",
   "language": "python",
   "name": "python3"
  },
  "language_info": {
   "codemirror_mode": {
    "name": "ipython",
    "version": 2
   },
   "file_extension": ".py",
   "mimetype": "text/x-python",
   "name": "python",
   "nbconvert_exporter": "python",
   "pygments_lexer": "ipython2",
   "version": "2.7.6"
  }
 },
 "nbformat": 4,
 "nbformat_minor": 0
}