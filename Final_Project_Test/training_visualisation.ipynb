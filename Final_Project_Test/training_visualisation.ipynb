{
 "cells": [
  {
   "cell_type": "code",
   "execution_count": 1,
   "metadata": {
    "collapsed": false,
    "pycharm": {
     "name": "#%%\n"
    }
   },
   "outputs": [
    {
     "name": "stdout",
     "output_type": "stream",
     "text": [
      "(<tf.Tensor: shape=(1, 5), dtype=int32, numpy=array([[1, 2, 3, 4, 5]])>, <tf.Tensor: shape=(1, 5, 20), dtype=float32, numpy=\n",
      "array([[[1., 1., 0., 0., 0., 1., 0., 0., 0., 0., 0., 0., 0., 0., 0., 1.,\n",
      "         0., 0., 0., 0.],\n",
      "        [0., 0., 0., 0., 0., 0., 0., 0., 0., 0., 1., 0., 0., 0., 1., 0.,\n",
      "         1., 0., 0., 0.],\n",
      "        [0., 0., 0., 1., 0., 0., 0., 0., 0., 0., 0., 1., 0., 1., 0., 1.,\n",
      "         0., 1., 0., 0.],\n",
      "        [0., 1., 0., 0., 0., 0., 1., 0., 0., 1., 0., 0., 0., 0., 1., 0.,\n",
      "         0., 0., 0., 0.],\n",
      "        [0., 0., 0., 0., 0., 0., 1., 0., 0., 0., 0., 0., 0., 0., 0., 0.,\n",
      "         1., 0., 1., 0.]]], dtype=float32)>, <tf.Tensor: shape=(1, 5, 3), dtype=int32, numpy=\n",
      "array([[[ 1,  2,  3],\n",
      "        [ 5,  8,  9],\n",
      "        [ 6,  2, 10],\n",
      "        [ 5,  8,  1],\n",
      "        [ 7,  6,  9]]])>)\n"
     ]
    }
   ],
   "source": [
    "from FoodRatingDataSet import FoodRatingDataset\n",
    "\n",
    "SEQ_LEN = 5\n",
    "\n",
    "data_set = FoodRatingDataset()\n",
    "\n",
    "#Test\n",
    "from Final_Project_Test.TestDataSet import TestDataset\n",
    "data_set = TestDataset()\n",
    "\n",
    "NUM_ING = data_set.NUM_ING\n",
    "OTHER_FEATURES = data_set.OTHER_FEATURES\n",
    "NUM_RECIPES = data_set.NUM_RECIPES"
   ]
  },
  {
   "cell_type": "code",
   "execution_count": 2,
   "metadata": {
    "collapsed": false,
    "pycharm": {
     "name": "#%%\n"
    }
   },
   "outputs": [
    {
     "name": "stdout",
     "output_type": "stream",
     "text": [
      "x_id_pre: Tensor(\"food_recommender_model_sequence/recipe_embedding/embedding/embedding_lookup/Identity_1:0\", shape=(None, 5, 32), dtype=float32)\n",
      "POS_emb: Tensor(\"food_recommender_model_sequence/recipe_embedding/embedding_1/embedding_lookup/Identity_1:0\", shape=(5, 32), dtype=float32)\n",
      "x_id: Tensor(\"food_recommender_model_sequence/recipe_embedding/add/add:0\", shape=(5, 5, 32), dtype=float32)\n",
      "x_ing: Tensor(\"food_recommender_model_sequence/recipe_embedding/dense/BiasAdd:0\", shape=(None, 5, 128), dtype=float32)\n",
      "x_o: Tensor(\"food_recommender_model_sequence/recipe_embedding/dense_1/BiasAdd:0\", shape=(None, 5, 16), dtype=float32)\n",
      "Model: \"model\"\n",
      "__________________________________________________________________________________________________\n",
      " Layer (type)                   Output Shape         Param #     Connected to                     \n",
      "==================================================================================================\n",
      " input_1 (InputLayer)           [(None, 5)]          0           []                               \n",
      "                                                                                                  \n",
      " input_2 (InputLayer)           [(None, 5, 20)]      0           []                               \n",
      "                                                                                                  \n",
      " input_3 (InputLayer)           [(None, 5, 3)]       0           []                               \n",
      "                                                                                                  \n",
      " food_recommender_model_sequenc  (5, 161880)         34527804    ['input_1[0][0]',                \n",
      " e (FoodRecommenderModelSequenc                                   'input_2[0][0]',                \n",
      " e)                                                               'input_3[0][0]']                \n",
      "                                                                                                  \n",
      "==================================================================================================\n",
      "Total params: 34,527,804\n",
      "Trainable params: 34,527,804\n",
      "Non-trainable params: 0\n",
      "__________________________________________________________________________________________________\n"
     ]
    }
   ],
   "source": [
    "from FoodRecommenderModelSequence import FoodRecommenderModelSequence\n",
    "import tensorflow as tf\n",
    "import keras\n",
    "\n",
    "ids, ing, ofe = tf.keras.Input(shape=[SEQ_LEN]), tf.keras.Input(shape=[SEQ_LEN, NUM_ING]), tf.keras.Input(\n",
    "    shape=[SEQ_LEN, OTHER_FEATURES])\n",
    "\n",
    "x = FoodRecommenderModelSequence(recipe_count=NUM_RECIPES, seq_len=SEQ_LEN)((ids, ing, ofe))\n",
    "\n",
    "mod = keras.Model((ids, ing, ofe), x)\n",
    "mod.summary()"
   ]
  },
  {
   "cell_type": "code",
   "execution_count": 3,
   "metadata": {
    "collapsed": false,
    "pycharm": {
     "name": "#%%\n"
    }
   },
   "outputs": [],
   "source": [
    "%load_ext tensorboard"
   ]
  },
  {
   "cell_type": "code",
   "execution_count": 4,
   "metadata": {
    "collapsed": false,
    "pycharm": {
     "name": "#%%\n"
    }
   },
   "outputs": [
    {
     "name": "stdout",
     "output_type": "stream",
     "text": [
      "Epoch 1/10\n",
      "DATA:\n",
      "X: (<tf.Tensor 'IteratorGetNext:0' shape=(None, 5) dtype=int32>, <tf.Tensor 'IteratorGetNext:1' shape=(None, 5, 20) dtype=float32>, <tf.Tensor 'IteratorGetNext:2' shape=(None, 5, 3) dtype=int32>)\n",
      "Y: Tensor(\"IteratorGetNext:3\", shape=(None,), dtype=int32)\n",
      "x_id_pre: Tensor(\"food_recommender_model_sequence_1/recipe_embedding_1/embedding_2/embedding_lookup/Identity_1:0\", shape=(None, 5, 32), dtype=float32)\n",
      "POS_emb: Tensor(\"food_recommender_model_sequence_1/recipe_embedding_1/embedding_3/embedding_lookup/Identity_1:0\", shape=(5, 32), dtype=float32)\n",
      "x_id: Tensor(\"food_recommender_model_sequence_1/recipe_embedding_1/add_3/add:0\", shape=(5, 5, 32), dtype=float32)\n",
      "x_ing: Tensor(\"food_recommender_model_sequence_1/recipe_embedding_1/dense_6/BiasAdd:0\", shape=(None, 5, 128), dtype=float32)\n",
      "x_o: Tensor(\"food_recommender_model_sequence_1/recipe_embedding_1/dense_7/BiasAdd:0\", shape=(None, 5, 16), dtype=float32)\n",
      "DATA:\n",
      "X: (<tf.Tensor 'IteratorGetNext:0' shape=(None, 5) dtype=int32>, <tf.Tensor 'IteratorGetNext:1' shape=(None, 5, 20) dtype=float32>, <tf.Tensor 'IteratorGetNext:2' shape=(None, 5, 3) dtype=int32>)\n",
      "Y: Tensor(\"IteratorGetNext:3\", shape=(None,), dtype=int32)\n",
      "x_id_pre: Tensor(\"food_recommender_model_sequence_1/recipe_embedding_1/embedding_2/embedding_lookup/Identity_1:0\", shape=(None, 5, 32), dtype=float32)\n",
      "POS_emb: Tensor(\"food_recommender_model_sequence_1/recipe_embedding_1/embedding_3/embedding_lookup/Identity_1:0\", shape=(5, 32), dtype=float32)\n",
      "x_id: Tensor(\"food_recommender_model_sequence_1/recipe_embedding_1/add_3/add:0\", shape=(5, 5, 32), dtype=float32)\n",
      "x_ing: Tensor(\"food_recommender_model_sequence_1/recipe_embedding_1/dense_6/BiasAdd:0\", shape=(None, 5, 128), dtype=float32)\n",
      "x_o: Tensor(\"food_recommender_model_sequence_1/recipe_embedding_1/dense_7/BiasAdd:0\", shape=(None, 5, 16), dtype=float32)\n"
     ]
    },
    {
     "ename": "InvalidArgumentError",
     "evalue": " ConcatOp : Dimensions of inputs should match: shape[0] = [5,5,32] vs. shape[1] = [1,5,128]\n\t [[node food_recommender_model_sequence_1/recipe_embedding_1/concatenate_1/concat\n (defined at C:\\Users\\Arne\\PycharmProjects\\iannwtfael\\venv\\lib\\site-packages\\keras\\backend.py:3224)\n]] [Op:__inference_train_function_2655]\n\nErrors may have originated from an input operation.\nInput Source operations connected to node food_recommender_model_sequence_1/recipe_embedding_1/concatenate_1/concat:\nIn[0] food_recommender_model_sequence_1/recipe_embedding_1/add_3/add (defined at C:\\Users\\Arne\\PycharmProjects\\iannwtfael\\venv\\lib\\site-packages\\keras\\layers\\merge.py:256)\t\nIn[1] food_recommender_model_sequence_1/recipe_embedding_1/dense_6/BiasAdd (defined at C:\\Users\\Arne\\PycharmProjects\\iannwtfael\\venv\\lib\\site-packages\\keras\\layers\\core\\dense.py:210)\t\nIn[2] food_recommender_model_sequence_1/recipe_embedding_1/dense_7/BiasAdd:\t\nIn[3] food_recommender_model_sequence_1/recipe_embedding_1/concatenate_1/concat/axis:\n\nOperation defined at: (most recent call last)\n>>>   File \"C:\\Users\\Arne\\AppData\\Local\\Programs\\Python\\Python39\\lib\\runpy.py\", line 197, in _run_module_as_main\n>>>     return _run_code(code, main_globals, None,\n>>> \n>>>   File \"C:\\Users\\Arne\\AppData\\Local\\Programs\\Python\\Python39\\lib\\runpy.py\", line 87, in _run_code\n>>>     exec(code, run_globals)\n>>> \n>>>   File \"C:\\Users\\Arne\\PycharmProjects\\iannwtfael\\venv\\lib\\site-packages\\ipykernel_launcher.py\", line 16, in <module>\n>>>     app.launch_new_instance()\n>>> \n>>>   File \"C:\\Users\\Arne\\PycharmProjects\\iannwtfael\\venv\\lib\\site-packages\\traitlets\\config\\application.py\", line 846, in launch_instance\n>>>     app.start()\n>>> \n>>>   File \"C:\\Users\\Arne\\PycharmProjects\\iannwtfael\\venv\\lib\\site-packages\\ipykernel\\kernelapp.py\", line 677, in start\n>>>     self.io_loop.start()\n>>> \n>>>   File \"C:\\Users\\Arne\\PycharmProjects\\iannwtfael\\venv\\lib\\site-packages\\tornado\\platform\\asyncio.py\", line 199, in start\n>>>     self.asyncio_loop.run_forever()\n>>> \n>>>   File \"C:\\Users\\Arne\\AppData\\Local\\Programs\\Python\\Python39\\lib\\asyncio\\base_events.py\", line 596, in run_forever\n>>>     self._run_once()\n>>> \n>>>   File \"C:\\Users\\Arne\\AppData\\Local\\Programs\\Python\\Python39\\lib\\asyncio\\base_events.py\", line 1890, in _run_once\n>>>     handle._run()\n>>> \n>>>   File \"C:\\Users\\Arne\\AppData\\Local\\Programs\\Python\\Python39\\lib\\asyncio\\events.py\", line 80, in _run\n>>>     self._context.run(self._callback, *self._args)\n>>> \n>>>   File \"C:\\Users\\Arne\\PycharmProjects\\iannwtfael\\venv\\lib\\site-packages\\ipykernel\\kernelbase.py\", line 457, in dispatch_queue\n>>>     await self.process_one()\n>>> \n>>>   File \"C:\\Users\\Arne\\PycharmProjects\\iannwtfael\\venv\\lib\\site-packages\\ipykernel\\kernelbase.py\", line 446, in process_one\n>>>     await dispatch(*args)\n>>> \n>>>   File \"C:\\Users\\Arne\\PycharmProjects\\iannwtfael\\venv\\lib\\site-packages\\ipykernel\\kernelbase.py\", line 353, in dispatch_shell\n>>>     await result\n>>> \n>>>   File \"C:\\Users\\Arne\\PycharmProjects\\iannwtfael\\venv\\lib\\site-packages\\ipykernel\\kernelbase.py\", line 648, in execute_request\n>>>     reply_content = await reply_content\n>>> \n>>>   File \"C:\\Users\\Arne\\PycharmProjects\\iannwtfael\\venv\\lib\\site-packages\\ipykernel\\ipkernel.py\", line 353, in do_execute\n>>>     res = shell.run_cell(code, store_history=store_history, silent=silent)\n>>> \n>>>   File \"C:\\Users\\Arne\\PycharmProjects\\iannwtfael\\venv\\lib\\site-packages\\ipykernel\\zmqshell.py\", line 533, in run_cell\n>>>     return super(ZMQInteractiveShell, self).run_cell(*args, **kwargs)\n>>> \n>>>   File \"C:\\Users\\Arne\\PycharmProjects\\iannwtfael\\venv\\lib\\site-packages\\IPython\\core\\interactiveshell.py\", line 2914, in run_cell\n>>>     result = self._run_cell(\n>>> \n>>>   File \"C:\\Users\\Arne\\PycharmProjects\\iannwtfael\\venv\\lib\\site-packages\\IPython\\core\\interactiveshell.py\", line 2960, in _run_cell\n>>>     return runner(coro)\n>>> \n>>>   File \"C:\\Users\\Arne\\PycharmProjects\\iannwtfael\\venv\\lib\\site-packages\\IPython\\core\\async_helpers.py\", line 78, in _pseudo_sync_runner\n>>>     coro.send(None)\n>>> \n>>>   File \"C:\\Users\\Arne\\PycharmProjects\\iannwtfael\\venv\\lib\\site-packages\\IPython\\core\\interactiveshell.py\", line 3185, in run_cell_async\n>>>     has_raised = await self.run_ast_nodes(code_ast.body, cell_name,\n>>> \n>>>   File \"C:\\Users\\Arne\\PycharmProjects\\iannwtfael\\venv\\lib\\site-packages\\IPython\\core\\interactiveshell.py\", line 3377, in run_ast_nodes\n>>>     if (await self.run_code(code, result,  async_=asy)):\n>>> \n>>>   File \"C:\\Users\\Arne\\PycharmProjects\\iannwtfael\\venv\\lib\\site-packages\\IPython\\core\\interactiveshell.py\", line 3457, in run_code\n>>>     exec(code_obj, self.user_global_ns, self.user_ns)\n>>> \n>>>   File \"C:\\Users\\Arne\\AppData\\Local\\Temp/ipykernel_4228/3693155092.py\", line 11, in <module>\n>>>     mod.fit(data, epochs=10, callbacks=[tensorboard])\n>>> \n>>>   File \"C:\\Users\\Arne\\PycharmProjects\\iannwtfael\\venv\\lib\\site-packages\\keras\\utils\\traceback_utils.py\", line 64, in error_handler\n>>>     return fn(*args, **kwargs)\n>>> \n>>>   File \"C:\\Users\\Arne\\PycharmProjects\\iannwtfael\\venv\\lib\\site-packages\\keras\\engine\\training.py\", line 1216, in fit\n>>>     tmp_logs = self.train_function(iterator)\n>>> \n>>>   File \"C:\\Users\\Arne\\PycharmProjects\\iannwtfael\\venv\\lib\\site-packages\\keras\\engine\\training.py\", line 878, in train_function\n>>>     return step_function(self, iterator)\n>>> \n>>>   File \"C:\\Users\\Arne\\PycharmProjects\\iannwtfael\\venv\\lib\\site-packages\\keras\\engine\\training.py\", line 867, in step_function\n>>>     outputs = model.distribute_strategy.run(run_step, args=(data,))\n>>> \n>>>   File \"C:\\Users\\Arne\\PycharmProjects\\iannwtfael\\venv\\lib\\site-packages\\keras\\engine\\training.py\", line 860, in run_step\n>>>     outputs = model.train_step(data)\n>>> \n>>>   File \"C:\\Users\\Arne\\PycharmProjects\\iannwtfael\\Final_Project_Test\\FoodRecommenderModelSequence.py\", line 42, in train_step\n>>>     y_pred = self(x, training=True)  # Forward pass\n>>> \n>>>   File \"C:\\Users\\Arne\\PycharmProjects\\iannwtfael\\venv\\lib\\site-packages\\keras\\utils\\traceback_utils.py\", line 64, in error_handler\n>>>     return fn(*args, **kwargs)\n>>> \n>>>   File \"C:\\Users\\Arne\\PycharmProjects\\iannwtfael\\venv\\lib\\site-packages\\keras\\engine\\base_layer.py\", line 1083, in __call__\n>>>     outputs = call_fn(inputs, *args, **kwargs)\n>>> \n>>>   File \"C:\\Users\\Arne\\PycharmProjects\\iannwtfael\\venv\\lib\\site-packages\\keras\\utils\\traceback_utils.py\", line 92, in error_handler\n>>>     return fn(*args, **kwargs)\n>>> \n>>>   File \"C:\\Users\\Arne\\PycharmProjects\\iannwtfael\\Final_Project_Test\\FoodRecommenderModelSequence.py\", line 22, in call\n>>>     x = self.embedding(inputs, positional=True)\n>>> \n>>>   File \"C:\\Users\\Arne\\PycharmProjects\\iannwtfael\\venv\\lib\\site-packages\\keras\\utils\\traceback_utils.py\", line 64, in error_handler\n>>>     return fn(*args, **kwargs)\n>>> \n>>>   File \"C:\\Users\\Arne\\PycharmProjects\\iannwtfael\\venv\\lib\\site-packages\\keras\\engine\\base_layer.py\", line 1083, in __call__\n>>>     outputs = call_fn(inputs, *args, **kwargs)\n>>> \n>>>   File \"C:\\Users\\Arne\\PycharmProjects\\iannwtfael\\venv\\lib\\site-packages\\keras\\utils\\traceback_utils.py\", line 92, in error_handler\n>>>     return fn(*args, **kwargs)\n>>> \n>>>   File \"C:\\Users\\Arne\\PycharmProjects\\iannwtfael\\Final_Project_Test\\RecipeEmbedding.py\", line 45, in call\n>>>     x = self.concat([x_id, x_ing, x_o])\n>>> \n>>>   File \"C:\\Users\\Arne\\PycharmProjects\\iannwtfael\\venv\\lib\\site-packages\\keras\\utils\\traceback_utils.py\", line 64, in error_handler\n>>>     return fn(*args, **kwargs)\n>>> \n>>>   File \"C:\\Users\\Arne\\PycharmProjects\\iannwtfael\\venv\\lib\\site-packages\\keras\\engine\\base_layer.py\", line 1083, in __call__\n>>>     outputs = call_fn(inputs, *args, **kwargs)\n>>> \n>>>   File \"C:\\Users\\Arne\\PycharmProjects\\iannwtfael\\venv\\lib\\site-packages\\keras\\utils\\traceback_utils.py\", line 92, in error_handler\n>>>     return fn(*args, **kwargs)\n>>> \n>>>   File \"C:\\Users\\Arne\\PycharmProjects\\iannwtfael\\venv\\lib\\site-packages\\keras\\layers\\merge.py\", line 183, in call\n>>>     return self._merge_function(inputs)\n>>> \n>>>   File \"C:\\Users\\Arne\\PycharmProjects\\iannwtfael\\venv\\lib\\site-packages\\keras\\layers\\merge.py\", line 528, in _merge_function\n>>>     return backend.concatenate(inputs, axis=self.axis)\n>>> \n>>>   File \"C:\\Users\\Arne\\PycharmProjects\\iannwtfael\\venv\\lib\\site-packages\\keras\\backend.py\", line 3224, in concatenate\n>>>     return tf.concat([to_dense(x) for x in tensors], axis)\n>>> ",
     "output_type": "error",
     "traceback": [
      "\u001B[1;31m---------------------------------------------------------------------------\u001B[0m",
      "\u001B[1;31mInvalidArgumentError\u001B[0m                      Traceback (most recent call last)",
      "\u001B[1;32m~\\AppData\\Local\\Temp/ipykernel_4228/3693155092.py\u001B[0m in \u001B[0;36m<module>\u001B[1;34m\u001B[0m\n\u001B[0;32m      9\u001B[0m \u001B[0mtensorboard\u001B[0m \u001B[1;33m=\u001B[0m \u001B[0mTensorBoard\u001B[0m\u001B[1;33m(\u001B[0m\u001B[0mlog_dir\u001B[0m\u001B[1;33m=\u001B[0m\u001B[1;34mf\"logs/recommend_{int(time.time())}\"\u001B[0m\u001B[1;33m)\u001B[0m\u001B[1;33m\u001B[0m\u001B[1;33m\u001B[0m\u001B[0m\n\u001B[0;32m     10\u001B[0m \u001B[1;31m#mod.fit(data, label, epochs=10, validation_split=0.3, callbacks=[tensorboard])\u001B[0m\u001B[1;33m\u001B[0m\u001B[1;33m\u001B[0m\u001B[1;33m\u001B[0m\u001B[0m\n\u001B[1;32m---> 11\u001B[1;33m \u001B[0mmod\u001B[0m\u001B[1;33m.\u001B[0m\u001B[0mfit\u001B[0m\u001B[1;33m(\u001B[0m\u001B[0mdata\u001B[0m\u001B[1;33m,\u001B[0m \u001B[0mepochs\u001B[0m\u001B[1;33m=\u001B[0m\u001B[1;36m10\u001B[0m\u001B[1;33m,\u001B[0m \u001B[0mcallbacks\u001B[0m\u001B[1;33m=\u001B[0m\u001B[1;33m[\u001B[0m\u001B[0mtensorboard\u001B[0m\u001B[1;33m]\u001B[0m\u001B[1;33m)\u001B[0m\u001B[1;33m\u001B[0m\u001B[1;33m\u001B[0m\u001B[0m\n\u001B[0m",
      "\u001B[1;32m~\\PycharmProjects\\iannwtfael\\venv\\lib\\site-packages\\keras\\utils\\traceback_utils.py\u001B[0m in \u001B[0;36merror_handler\u001B[1;34m(*args, **kwargs)\u001B[0m\n\u001B[0;32m     65\u001B[0m     \u001B[1;32mexcept\u001B[0m \u001B[0mException\u001B[0m \u001B[1;32mas\u001B[0m \u001B[0me\u001B[0m\u001B[1;33m:\u001B[0m  \u001B[1;31m# pylint: disable=broad-except\u001B[0m\u001B[1;33m\u001B[0m\u001B[1;33m\u001B[0m\u001B[0m\n\u001B[0;32m     66\u001B[0m       \u001B[0mfiltered_tb\u001B[0m \u001B[1;33m=\u001B[0m \u001B[0m_process_traceback_frames\u001B[0m\u001B[1;33m(\u001B[0m\u001B[0me\u001B[0m\u001B[1;33m.\u001B[0m\u001B[0m__traceback__\u001B[0m\u001B[1;33m)\u001B[0m\u001B[1;33m\u001B[0m\u001B[1;33m\u001B[0m\u001B[0m\n\u001B[1;32m---> 67\u001B[1;33m       \u001B[1;32mraise\u001B[0m \u001B[0me\u001B[0m\u001B[1;33m.\u001B[0m\u001B[0mwith_traceback\u001B[0m\u001B[1;33m(\u001B[0m\u001B[0mfiltered_tb\u001B[0m\u001B[1;33m)\u001B[0m \u001B[1;32mfrom\u001B[0m \u001B[1;32mNone\u001B[0m\u001B[1;33m\u001B[0m\u001B[1;33m\u001B[0m\u001B[0m\n\u001B[0m\u001B[0;32m     68\u001B[0m     \u001B[1;32mfinally\u001B[0m\u001B[1;33m:\u001B[0m\u001B[1;33m\u001B[0m\u001B[1;33m\u001B[0m\u001B[0m\n\u001B[0;32m     69\u001B[0m       \u001B[1;32mdel\u001B[0m \u001B[0mfiltered_tb\u001B[0m\u001B[1;33m\u001B[0m\u001B[1;33m\u001B[0m\u001B[0m\n",
      "\u001B[1;32m~\\PycharmProjects\\iannwtfael\\venv\\lib\\site-packages\\tensorflow\\python\\eager\\execute.py\u001B[0m in \u001B[0;36mquick_execute\u001B[1;34m(op_name, num_outputs, inputs, attrs, ctx, name)\u001B[0m\n\u001B[0;32m     56\u001B[0m   \u001B[1;32mtry\u001B[0m\u001B[1;33m:\u001B[0m\u001B[1;33m\u001B[0m\u001B[1;33m\u001B[0m\u001B[0m\n\u001B[0;32m     57\u001B[0m     \u001B[0mctx\u001B[0m\u001B[1;33m.\u001B[0m\u001B[0mensure_initialized\u001B[0m\u001B[1;33m(\u001B[0m\u001B[1;33m)\u001B[0m\u001B[1;33m\u001B[0m\u001B[1;33m\u001B[0m\u001B[0m\n\u001B[1;32m---> 58\u001B[1;33m     tensors = pywrap_tfe.TFE_Py_Execute(ctx._handle, device_name, op_name,\n\u001B[0m\u001B[0;32m     59\u001B[0m                                         inputs, attrs, num_outputs)\n\u001B[0;32m     60\u001B[0m   \u001B[1;32mexcept\u001B[0m \u001B[0mcore\u001B[0m\u001B[1;33m.\u001B[0m\u001B[0m_NotOkStatusException\u001B[0m \u001B[1;32mas\u001B[0m \u001B[0me\u001B[0m\u001B[1;33m:\u001B[0m\u001B[1;33m\u001B[0m\u001B[1;33m\u001B[0m\u001B[0m\n",
      "\u001B[1;31mInvalidArgumentError\u001B[0m:  ConcatOp : Dimensions of inputs should match: shape[0] = [5,5,32] vs. shape[1] = [1,5,128]\n\t [[node food_recommender_model_sequence_1/recipe_embedding_1/concatenate_1/concat\n (defined at C:\\Users\\Arne\\PycharmProjects\\iannwtfael\\venv\\lib\\site-packages\\keras\\backend.py:3224)\n]] [Op:__inference_train_function_2655]\n\nErrors may have originated from an input operation.\nInput Source operations connected to node food_recommender_model_sequence_1/recipe_embedding_1/concatenate_1/concat:\nIn[0] food_recommender_model_sequence_1/recipe_embedding_1/add_3/add (defined at C:\\Users\\Arne\\PycharmProjects\\iannwtfael\\venv\\lib\\site-packages\\keras\\layers\\merge.py:256)\t\nIn[1] food_recommender_model_sequence_1/recipe_embedding_1/dense_6/BiasAdd (defined at C:\\Users\\Arne\\PycharmProjects\\iannwtfael\\venv\\lib\\site-packages\\keras\\layers\\core\\dense.py:210)\t\nIn[2] food_recommender_model_sequence_1/recipe_embedding_1/dense_7/BiasAdd:\t\nIn[3] food_recommender_model_sequence_1/recipe_embedding_1/concatenate_1/concat/axis:\n\nOperation defined at: (most recent call last)\n>>>   File \"C:\\Users\\Arne\\AppData\\Local\\Programs\\Python\\Python39\\lib\\runpy.py\", line 197, in _run_module_as_main\n>>>     return _run_code(code, main_globals, None,\n>>> \n>>>   File \"C:\\Users\\Arne\\AppData\\Local\\Programs\\Python\\Python39\\lib\\runpy.py\", line 87, in _run_code\n>>>     exec(code, run_globals)\n>>> \n>>>   File \"C:\\Users\\Arne\\PycharmProjects\\iannwtfael\\venv\\lib\\site-packages\\ipykernel_launcher.py\", line 16, in <module>\n>>>     app.launch_new_instance()\n>>> \n>>>   File \"C:\\Users\\Arne\\PycharmProjects\\iannwtfael\\venv\\lib\\site-packages\\traitlets\\config\\application.py\", line 846, in launch_instance\n>>>     app.start()\n>>> \n>>>   File \"C:\\Users\\Arne\\PycharmProjects\\iannwtfael\\venv\\lib\\site-packages\\ipykernel\\kernelapp.py\", line 677, in start\n>>>     self.io_loop.start()\n>>> \n>>>   File \"C:\\Users\\Arne\\PycharmProjects\\iannwtfael\\venv\\lib\\site-packages\\tornado\\platform\\asyncio.py\", line 199, in start\n>>>     self.asyncio_loop.run_forever()\n>>> \n>>>   File \"C:\\Users\\Arne\\AppData\\Local\\Programs\\Python\\Python39\\lib\\asyncio\\base_events.py\", line 596, in run_forever\n>>>     self._run_once()\n>>> \n>>>   File \"C:\\Users\\Arne\\AppData\\Local\\Programs\\Python\\Python39\\lib\\asyncio\\base_events.py\", line 1890, in _run_once\n>>>     handle._run()\n>>> \n>>>   File \"C:\\Users\\Arne\\AppData\\Local\\Programs\\Python\\Python39\\lib\\asyncio\\events.py\", line 80, in _run\n>>>     self._context.run(self._callback, *self._args)\n>>> \n>>>   File \"C:\\Users\\Arne\\PycharmProjects\\iannwtfael\\venv\\lib\\site-packages\\ipykernel\\kernelbase.py\", line 457, in dispatch_queue\n>>>     await self.process_one()\n>>> \n>>>   File \"C:\\Users\\Arne\\PycharmProjects\\iannwtfael\\venv\\lib\\site-packages\\ipykernel\\kernelbase.py\", line 446, in process_one\n>>>     await dispatch(*args)\n>>> \n>>>   File \"C:\\Users\\Arne\\PycharmProjects\\iannwtfael\\venv\\lib\\site-packages\\ipykernel\\kernelbase.py\", line 353, in dispatch_shell\n>>>     await result\n>>> \n>>>   File \"C:\\Users\\Arne\\PycharmProjects\\iannwtfael\\venv\\lib\\site-packages\\ipykernel\\kernelbase.py\", line 648, in execute_request\n>>>     reply_content = await reply_content\n>>> \n>>>   File \"C:\\Users\\Arne\\PycharmProjects\\iannwtfael\\venv\\lib\\site-packages\\ipykernel\\ipkernel.py\", line 353, in do_execute\n>>>     res = shell.run_cell(code, store_history=store_history, silent=silent)\n>>> \n>>>   File \"C:\\Users\\Arne\\PycharmProjects\\iannwtfael\\venv\\lib\\site-packages\\ipykernel\\zmqshell.py\", line 533, in run_cell\n>>>     return super(ZMQInteractiveShell, self).run_cell(*args, **kwargs)\n>>> \n>>>   File \"C:\\Users\\Arne\\PycharmProjects\\iannwtfael\\venv\\lib\\site-packages\\IPython\\core\\interactiveshell.py\", line 2914, in run_cell\n>>>     result = self._run_cell(\n>>> \n>>>   File \"C:\\Users\\Arne\\PycharmProjects\\iannwtfael\\venv\\lib\\site-packages\\IPython\\core\\interactiveshell.py\", line 2960, in _run_cell\n>>>     return runner(coro)\n>>> \n>>>   File \"C:\\Users\\Arne\\PycharmProjects\\iannwtfael\\venv\\lib\\site-packages\\IPython\\core\\async_helpers.py\", line 78, in _pseudo_sync_runner\n>>>     coro.send(None)\n>>> \n>>>   File \"C:\\Users\\Arne\\PycharmProjects\\iannwtfael\\venv\\lib\\site-packages\\IPython\\core\\interactiveshell.py\", line 3185, in run_cell_async\n>>>     has_raised = await self.run_ast_nodes(code_ast.body, cell_name,\n>>> \n>>>   File \"C:\\Users\\Arne\\PycharmProjects\\iannwtfael\\venv\\lib\\site-packages\\IPython\\core\\interactiveshell.py\", line 3377, in run_ast_nodes\n>>>     if (await self.run_code(code, result,  async_=asy)):\n>>> \n>>>   File \"C:\\Users\\Arne\\PycharmProjects\\iannwtfael\\venv\\lib\\site-packages\\IPython\\core\\interactiveshell.py\", line 3457, in run_code\n>>>     exec(code_obj, self.user_global_ns, self.user_ns)\n>>> \n>>>   File \"C:\\Users\\Arne\\AppData\\Local\\Temp/ipykernel_4228/3693155092.py\", line 11, in <module>\n>>>     mod.fit(data, epochs=10, callbacks=[tensorboard])\n>>> \n>>>   File \"C:\\Users\\Arne\\PycharmProjects\\iannwtfael\\venv\\lib\\site-packages\\keras\\utils\\traceback_utils.py\", line 64, in error_handler\n>>>     return fn(*args, **kwargs)\n>>> \n>>>   File \"C:\\Users\\Arne\\PycharmProjects\\iannwtfael\\venv\\lib\\site-packages\\keras\\engine\\training.py\", line 1216, in fit\n>>>     tmp_logs = self.train_function(iterator)\n>>> \n>>>   File \"C:\\Users\\Arne\\PycharmProjects\\iannwtfael\\venv\\lib\\site-packages\\keras\\engine\\training.py\", line 878, in train_function\n>>>     return step_function(self, iterator)\n>>> \n>>>   File \"C:\\Users\\Arne\\PycharmProjects\\iannwtfael\\venv\\lib\\site-packages\\keras\\engine\\training.py\", line 867, in step_function\n>>>     outputs = model.distribute_strategy.run(run_step, args=(data,))\n>>> \n>>>   File \"C:\\Users\\Arne\\PycharmProjects\\iannwtfael\\venv\\lib\\site-packages\\keras\\engine\\training.py\", line 860, in run_step\n>>>     outputs = model.train_step(data)\n>>> \n>>>   File \"C:\\Users\\Arne\\PycharmProjects\\iannwtfael\\Final_Project_Test\\FoodRecommenderModelSequence.py\", line 42, in train_step\n>>>     y_pred = self(x, training=True)  # Forward pass\n>>> \n>>>   File \"C:\\Users\\Arne\\PycharmProjects\\iannwtfael\\venv\\lib\\site-packages\\keras\\utils\\traceback_utils.py\", line 64, in error_handler\n>>>     return fn(*args, **kwargs)\n>>> \n>>>   File \"C:\\Users\\Arne\\PycharmProjects\\iannwtfael\\venv\\lib\\site-packages\\keras\\engine\\base_layer.py\", line 1083, in __call__\n>>>     outputs = call_fn(inputs, *args, **kwargs)\n>>> \n>>>   File \"C:\\Users\\Arne\\PycharmProjects\\iannwtfael\\venv\\lib\\site-packages\\keras\\utils\\traceback_utils.py\", line 92, in error_handler\n>>>     return fn(*args, **kwargs)\n>>> \n>>>   File \"C:\\Users\\Arne\\PycharmProjects\\iannwtfael\\Final_Project_Test\\FoodRecommenderModelSequence.py\", line 22, in call\n>>>     x = self.embedding(inputs, positional=True)\n>>> \n>>>   File \"C:\\Users\\Arne\\PycharmProjects\\iannwtfael\\venv\\lib\\site-packages\\keras\\utils\\traceback_utils.py\", line 64, in error_handler\n>>>     return fn(*args, **kwargs)\n>>> \n>>>   File \"C:\\Users\\Arne\\PycharmProjects\\iannwtfael\\venv\\lib\\site-packages\\keras\\engine\\base_layer.py\", line 1083, in __call__\n>>>     outputs = call_fn(inputs, *args, **kwargs)\n>>> \n>>>   File \"C:\\Users\\Arne\\PycharmProjects\\iannwtfael\\venv\\lib\\site-packages\\keras\\utils\\traceback_utils.py\", line 92, in error_handler\n>>>     return fn(*args, **kwargs)\n>>> \n>>>   File \"C:\\Users\\Arne\\PycharmProjects\\iannwtfael\\Final_Project_Test\\RecipeEmbedding.py\", line 45, in call\n>>>     x = self.concat([x_id, x_ing, x_o])\n>>> \n>>>   File \"C:\\Users\\Arne\\PycharmProjects\\iannwtfael\\venv\\lib\\site-packages\\keras\\utils\\traceback_utils.py\", line 64, in error_handler\n>>>     return fn(*args, **kwargs)\n>>> \n>>>   File \"C:\\Users\\Arne\\PycharmProjects\\iannwtfael\\venv\\lib\\site-packages\\keras\\engine\\base_layer.py\", line 1083, in __call__\n>>>     outputs = call_fn(inputs, *args, **kwargs)\n>>> \n>>>   File \"C:\\Users\\Arne\\PycharmProjects\\iannwtfael\\venv\\lib\\site-packages\\keras\\utils\\traceback_utils.py\", line 92, in error_handler\n>>>     return fn(*args, **kwargs)\n>>> \n>>>   File \"C:\\Users\\Arne\\PycharmProjects\\iannwtfael\\venv\\lib\\site-packages\\keras\\layers\\merge.py\", line 183, in call\n>>>     return self._merge_function(inputs)\n>>> \n>>>   File \"C:\\Users\\Arne\\PycharmProjects\\iannwtfael\\venv\\lib\\site-packages\\keras\\layers\\merge.py\", line 528, in _merge_function\n>>>     return backend.concatenate(inputs, axis=self.axis)\n>>> \n>>>   File \"C:\\Users\\Arne\\PycharmProjects\\iannwtfael\\venv\\lib\\site-packages\\keras\\backend.py\", line 3224, in concatenate\n>>>     return tf.concat([to_dense(x) for x in tensors], axis)\n>>> "
     ]
    }
   ],
   "source": [
    "from tensorflow.keras.callbacks import TensorBoard\n",
    "import time\n",
    "\n",
    "data = data_set.data()\n",
    "\n",
    "mod = FoodRecommenderModelSequence(recipe_count=NUM_RECIPES, seq_len=SEQ_LEN)\n",
    "mod.compile(loss=tf.keras.losses.MeanSquaredError(), optimizer=tf.keras.optimizers.Adam(learning_rate=0.01), metrics=['accuracy'])\n",
    "\n",
    "tensorboard = TensorBoard(log_dir=f\"logs/recommend_{int(time.time())}\")\n",
    "#mod.fit(data, label, epochs=10, validation_split=0.3, callbacks=[tensorboard])\n",
    "mod.fit(data, epochs=10, callbacks=[tensorboard])"
   ]
  },
  {
   "cell_type": "code",
   "execution_count": null,
   "metadata": {
    "collapsed": false,
    "pycharm": {
     "name": "#%%\n"
    }
   },
   "outputs": [],
   "source": [
    "%tensorboard --logdir logs"
   ]
  },
  {
   "cell_type": "code",
   "execution_count": null,
   "metadata": {
    "collapsed": false,
    "pycharm": {
     "name": "#%%\n"
    }
   },
   "outputs": [],
   "source": [
    "from FoodRecommenderModel import FoodRecommenderModel\n",
    "import tensorflow as tf\n",
    "import keras\n",
    "\n",
    "ids, ing, ofe = tf.keras.Input(shape=[SEQ_LEN]), tf.keras.Input(shape=[SEQ_LEN, NUM_ING]), tf.keras.Input(\n",
    "    shape=[SEQ_LEN, OTHER_FEATURES])\n",
    "tar_id, tar_ing, tar_ofe = tf.keras.Input(shape=[1]), tf.keras.Input(shape=[1, NUM_ING]), tf.keras.Input(\n",
    "    shape=[1, OTHER_FEATURES])\n",
    "\n",
    "x = FoodRecommenderModel()(((ids, ing, ofe), (tar_id, tar_ing, tar_ofe)))\n",
    "\n",
    "mod = keras.Model((ids, ing, ofe, tar_id, tar_ing, tar_ofe), x)\n",
    "mod.summary()\n"
   ]
  },
  {
   "cell_type": "code",
   "execution_count": null,
   "metadata": {
    "collapsed": false,
    "pycharm": {
     "name": "#%%\n"
    }
   },
   "outputs": [],
   "source": [
    "from FoodRecommenderModelSelfAttention import FoodRecommenderModelSelfAttention\n",
    "import tensorflow as tf\n",
    "import keras\n",
    "\n",
    "ids, ing, ofe = tf.keras.Input(shape=[SEQ_LEN]), tf.keras.Input(shape=[SEQ_LEN, NUM_ING]), tf.keras.Input(\n",
    "    shape=[SEQ_LEN, OTHER_FEATURES])\n",
    "tar_id, tar_ing, tar_ofe = tf.keras.Input(shape=[1]), tf.keras.Input(shape=[1, NUM_ING]), tf.keras.Input(\n",
    "    shape=[1, OTHER_FEATURES])\n",
    "\n",
    "x = FoodRecommenderModelSelfAttention()(((ids, ing, ofe), (tar_id, tar_ing, tar_ofe)))\n",
    "\n",
    "mod = keras.Model((ids, ing, ofe, tar_id, tar_ing, tar_ofe), x)\n",
    "mod.summary()\n"
   ]
  }
 ],
 "metadata": {
  "kernelspec": {
   "display_name": "Python 3",
   "language": "python",
   "name": "python3"
  },
  "language_info": {
   "codemirror_mode": {
    "name": "ipython",
    "version": 2
   },
   "file_extension": ".py",
   "mimetype": "text/x-python",
   "name": "python",
   "nbconvert_exporter": "python",
   "pygments_lexer": "ipython2",
   "version": "2.7.6"
  }
 },
 "nbformat": 4,
 "nbformat_minor": 0
}