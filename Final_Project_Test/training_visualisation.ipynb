{
 "cells": [
  {
   "cell_type": "code",
   "execution_count": 1,
   "metadata": {
    "pycharm": {
     "name": "#%%\n"
    }
   },
   "outputs": [],
   "source": [
    "#from FoodRatingDataSet import FoodRatingDataset\n",
    "\n",
    "SEQ_LEN = 5\n",
    "\n",
    "#data_set = FoodRatingDataset()\n",
    "\n",
    "#Test\n",
    "from TestDataSet import TestDataSet\n",
    "\n",
    "data_set = TestDataSet()\n",
    "\n",
    "NUM_ING = data_set.NUM_ING\n",
    "OTHER_FEATURES = data_set.OTHER_FEATURES\n",
    "NUM_RECIPES = data_set.NUM_RECIPES"
   ]
  },
  {
   "cell_type": "code",
   "execution_count": 2,
   "metadata": {
    "pycharm": {
     "name": "#%%\n"
    }
   },
   "outputs": [
    {
     "name": "stdout",
     "output_type": "stream",
     "text": [
      "Model: \"food_recommender_model_sequence\"\n",
      "_________________________________________________________________\n",
      " Layer (type)                Output Shape              Param #   \n",
      "=================================================================\n",
      " recipe_embedding (RecipeEmb  multiple                 10392576  \n",
      " edding)                                                         \n",
      "                                                                 \n",
      " recommender_encoder (Recomm  multiple                 330240    \n",
      " enderEncoder)                                                   \n",
      "                                                                 \n",
      " flatten_1 (Flatten)         multiple                  0         \n",
      "                                                                 \n",
      " dense_5 (Dense)             multiple                  328192    \n",
      "                                                                 \n",
      " dense_6 (Dense)             multiple                  131328    \n",
      "                                                                 \n",
      " dense_7 (Dense)             multiple                  32896     \n",
      "                                                                 \n",
      " dense_8 (Dense)             multiple                  20882520  \n",
      "                                                                 \n",
      "=================================================================\n",
      "Total params: 32,097,752\n",
      "Trainable params: 32,097,752\n",
      "Non-trainable params: 0\n",
      "_________________________________________________________________\n"
     ]
    }
   ],
   "source": [
    "from FoodRecommenderModelSequence import FoodRecommenderModelSequence\n",
    "import tensorflow as tf\n",
    "\n",
    "ids, ing, ofe = tf.keras.Input(shape=[SEQ_LEN]), tf.keras.Input(shape=[SEQ_LEN, NUM_ING]), tf.keras.Input(\n",
    "    shape=[SEQ_LEN, OTHER_FEATURES])\n",
    "\n",
    "mod = FoodRecommenderModelSequence(recipe_count=NUM_RECIPES, seq_len=SEQ_LEN)\n",
    "\n",
    "mod((ids, ing, ofe))\n",
    "\n",
    "mod.summary()"
   ]
  },
  {
   "cell_type": "code",
   "execution_count": 3,
   "metadata": {
    "pycharm": {
     "name": "#%%\n"
    }
   },
   "outputs": [
    {
     "data": {
      "text/plain": "Launching TensorBoard..."
     },
     "metadata": {},
     "output_type": "display_data"
    }
   ],
   "source": [
    "%load_ext tensorboard\n",
    "%tensorboard --logdir logs"
   ]
  },
  {
   "cell_type": "code",
   "execution_count": 5,
   "metadata": {
    "pycharm": {
     "name": "#%%\n"
    }
   },
   "outputs": [
    {
     "name": "stdout",
     "output_type": "stream",
     "text": [
      "new model:\n",
      "Epoch 1/10\n",
      "1/1 [==============================] - 4s 4s/step - loss: 12.0314 - accuracy: 0.0000e+00\n",
      "Epoch 2/10\n",
      "1/1 [==============================] - 2s 2s/step - loss: 11.7948 - accuracy: 1.0000\n",
      "Epoch 3/10\n",
      "1/1 [==============================] - 2s 2s/step - loss: 11.3748 - accuracy: 1.0000\n",
      "Epoch 4/10\n",
      "1/1 [==============================] - 2s 2s/step - loss: 10.6534 - accuracy: 1.0000\n",
      "Epoch 5/10\n",
      "1/1 [==============================] - 2s 2s/step - loss: 9.4291 - accuracy: 1.0000\n",
      "Epoch 6/10\n",
      "1/1 [==============================] - 2s 2s/step - loss: 7.4900 - accuracy: 1.0000\n",
      "Epoch 7/10\n",
      "1/1 [==============================] - 2s 2s/step - loss: 4.5674 - accuracy: 1.0000\n",
      "Epoch 8/10\n",
      "1/1 [==============================] - 2s 2s/step - loss: 0.8468 - accuracy: 1.0000\n",
      "Epoch 9/10\n",
      "1/1 [==============================] - 2s 2s/step - loss: 0.0024 - accuracy: 1.0000\n",
      "Epoch 10/10\n",
      "1/1 [==============================] - 2s 2s/step - loss: 1.9073e-06 - accuracy: 1.0000\n"
     ]
    },
    {
     "data": {
      "text/plain": "<keras.callbacks.History at 0x209d5c89930>"
     },
     "execution_count": 5,
     "metadata": {},
     "output_type": "execute_result"
    }
   ],
   "source": [
    "from tensorflow.keras.callbacks import TensorBoard\n",
    "from tensorflow.keras.callbacks import ModelCheckpoint\n",
    "from datetime import datetime\n",
    "import os.path\n",
    "\n",
    "data = data_set.data()\n",
    "\n",
    "mod = FoodRecommenderModelSequence(recipe_count=NUM_RECIPES, seq_len=SEQ_LEN)\n",
    "mod.compile(loss=tf.keras.losses.SparseCategoricalCrossentropy(from_logits=True),\n",
    "            optimizer=tf.keras.optimizers.Adam(learning_rate=0.001), metrics=['accuracy'])\n",
    "\n",
    "board_file_name = datetime.now().strftime(\"%d%m%Y_%H%M%S\")\n",
    "\n",
    "checkpoints_dir = \"checkpoints/checkpoint\"\n",
    "\n",
    "\n",
    "if os.path.exists(checkpoints_dir):\n",
    "    print(\"load model:\")\n",
    "    board_file_name = f\"{board_file_name}_loaded\"\n",
    "    mod.load_weights(checkpoints_dir)\n",
    "else:\n",
    "    print(\"new model:\")\n",
    "\n",
    "tensorboard = TensorBoard(log_dir=f\"logs/recommend_{board_file_name}\")\n",
    "checkpoints = ModelCheckpoint(filepath=checkpoints_dir, save_weights_only=True)\n",
    "\n",
    "#mod.fit(data, epochs=10, validation_split=0.3, callbacks=[tensorboard, checkpoints])\n",
    "mod.fit(data, epochs=10, callbacks=[tensorboard, checkpoints])"
   ]
  }
 ],
 "metadata": {
  "kernelspec": {
   "display_name": "Python 3",
   "language": "python",
   "name": "python3"
  },
  "language_info": {
   "codemirror_mode": {
    "name": "ipython",
    "version": 3
   },
   "file_extension": ".py",
   "mimetype": "text/x-python",
   "name": "python",
   "nbconvert_exporter": "python",
   "pygments_lexer": "ipython3",
   "version": "3.8.3"
  }
 },
 "nbformat": 4,
 "nbformat_minor": 1
}