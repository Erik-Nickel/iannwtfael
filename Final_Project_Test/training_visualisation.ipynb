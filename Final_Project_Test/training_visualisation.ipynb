{
 "cells": [
  {
   "cell_type": "code",
   "execution_count": 1,
   "outputs": [],
   "source": [
    "from FoodRatingDataSet import FoodRatingDataset\n",
    "\n",
    "SEQ_LEN = 10\n",
    "\n",
    "data_set = FoodRatingDataset(seq_len=SEQ_LEN)\n",
    "\n",
    "NUM_ING = data_set.NUM_ING\n",
    "OTHER_FEATURES = data_set.OTHER_FEATURES\n",
    "NUM_RECIPES = data_set.NUM_RECIPES"
   ],
   "metadata": {
    "collapsed": false,
    "pycharm": {
     "name": "#%%\n"
    }
   }
  },
  {
   "cell_type": "code",
   "execution_count": 2,
   "outputs": [
    {
     "name": "stdout",
     "output_type": "stream",
     "text": [
      "Model: \"model\"\n",
      "__________________________________________________________________________________________________\n",
      " Layer (type)                   Output Shape         Param #     Connected to                     \n",
      "==================================================================================================\n",
      " input_1 (InputLayer)           [(None, 10)]         0           []                               \n",
      "                                                                                                  \n",
      " input_2 (InputLayer)           [(None, 10, 8023)]   0           []                               \n",
      "                                                                                                  \n",
      " input_3 (InputLayer)           [(None, 10, 3)]      0           []                               \n",
      "                                                                                                  \n",
      " food_recommender_model_sequenc  (9, 161880)         35552348    ['input_1[0][0]',                \n",
      " e (FoodRecommenderModelSequenc                                   'input_2[0][0]',                \n",
      " e)                                                               'input_3[0][0]']                \n",
      "                                                                                                  \n",
      "==================================================================================================\n",
      "Total params: 35,552,348\n",
      "Trainable params: 35,552,348\n",
      "Non-trainable params: 0\n",
      "__________________________________________________________________________________________________\n"
     ]
    }
   ],
   "source": [
    "from FoodRecommenderModelSequence import FoodRecommenderModelSequence\n",
    "import tensorflow as tf\n",
    "import keras\n",
    "\n",
    "ids, ing, ofe = tf.keras.Input(shape=[SEQ_LEN]), tf.keras.Input(shape=[SEQ_LEN, NUM_ING]), tf.keras.Input(\n",
    "    shape=[SEQ_LEN, OTHER_FEATURES])\n",
    "\n",
    "x = FoodRecommenderModelSequence(recipe_count=NUM_RECIPES, seq_len=SEQ_LEN)((ids, ing, ofe))\n",
    "\n",
    "mod = keras.Model((ids, ing, ofe), x)\n",
    "mod.summary()"
   ],
   "metadata": {
    "collapsed": false,
    "pycharm": {
     "name": "#%%\n"
    }
   }
  },
  {
   "cell_type": "code",
   "execution_count": 1,
   "outputs": [],
   "source": [
    "%load_ext tensorboard"
   ],
   "metadata": {
    "collapsed": false,
    "pycharm": {
     "name": "#%%\n"
    }
   }
  },
  {
   "cell_type": "code",
   "execution_count": null,
   "outputs": [],
   "source": [
    "from tensorflow.keras.callbacks import TensorBoard\n",
    "import time\n",
    "\n",
    "data, label = data_set.data()\n",
    "\n",
    "mod.compile(loss=mod.loss, optimizer=mod.optimizer, metrics=['accuracy'])\n",
    "\n",
    "tensorboard = TensorBoard(log_dir=f\"logs/recommend_{int(time.time())}\")\n",
    "mod.fit(data, label, epochs=10, validation_split=0.3, callbacks=[tensorboard])"
   ],
   "metadata": {
    "collapsed": false,
    "pycharm": {
     "name": "#%%\n"
    }
   }
  },
  {
   "cell_type": "code",
   "execution_count": 3,
   "outputs": [
    {
     "data": {
      "text/plain": "Launching TensorBoard..."
     },
     "metadata": {},
     "output_type": "display_data"
    },
    {
     "data": {
      "text/plain": "<IPython.core.display.HTML object>",
      "text/html": "\n      <iframe id=\"tensorboard-frame-463f1ba7f3fc95c0\" width=\"100%\" height=\"800\" frameborder=\"0\">\n      </iframe>\n      <script>\n        (function() {\n          const frame = document.getElementById(\"tensorboard-frame-463f1ba7f3fc95c0\");\n          const url = new URL(\"/\", window.location);\n          const port = 6006;\n          if (port) {\n            url.port = port;\n          }\n          frame.src = url;\n        })();\n      </script>\n    "
     },
     "metadata": {},
     "output_type": "display_data"
    }
   ],
   "source": [
    "%tensorboard --logdir logs/"
   ],
   "metadata": {
    "collapsed": false,
    "pycharm": {
     "name": "#%%\n"
    }
   }
  },
  {
   "cell_type": "code",
   "execution_count": 3,
   "outputs": [
    {
     "name": "stdout",
     "output_type": "stream",
     "text": [
      "Model: \"model_1\"\n",
      "__________________________________________________________________________________________________\n",
      " Layer (type)                   Output Shape         Param #     Connected to                     \n",
      "==================================================================================================\n",
      " input_4 (InputLayer)           [(None, 10)]         0           []                               \n",
      "                                                                                                  \n",
      " input_5 (InputLayer)           [(None, 10, 8023)]   0           []                               \n",
      "                                                                                                  \n",
      " input_6 (InputLayer)           [(None, 10, 3)]      0           []                               \n",
      "                                                                                                  \n",
      " input_7 (InputLayer)           [(None, 1)]          0           []                               \n",
      "                                                                                                  \n",
      " input_8 (InputLayer)           [(None, 1, 8023)]    0           []                               \n",
      "                                                                                                  \n",
      " input_9 (InputLayer)           [(None, 1, 3)]       0           []                               \n",
      "                                                                                                  \n",
      " food_recommender_model (FoodRe  (19, 1)             13251525    ['input_4[0][0]',                \n",
      " commenderModel)                                                  'input_5[0][0]',                \n",
      "                                                                  'input_6[0][0]',                \n",
      "                                                                  'input_7[0][0]',                \n",
      "                                                                  'input_8[0][0]',                \n",
      "                                                                  'input_9[0][0]']                \n",
      "                                                                                                  \n",
      "==================================================================================================\n",
      "Total params: 13,251,525\n",
      "Trainable params: 13,251,525\n",
      "Non-trainable params: 0\n",
      "__________________________________________________________________________________________________\n"
     ]
    }
   ],
   "source": [
    "from FoodRecommenderModel import FoodRecommenderModel\n",
    "import tensorflow as tf\n",
    "import keras\n",
    "\n",
    "ids, ing, ofe = tf.keras.Input(shape=[SEQ_LEN]), tf.keras.Input(shape=[SEQ_LEN, NUM_ING]), tf.keras.Input(\n",
    "    shape=[SEQ_LEN, OTHER_FEATURES])\n",
    "tar_id, tar_ing, tar_ofe = tf.keras.Input(shape=[1]), tf.keras.Input(shape=[1, NUM_ING]), tf.keras.Input(\n",
    "    shape=[1, OTHER_FEATURES])\n",
    "\n",
    "x = FoodRecommenderModel()(((ids, ing, ofe), (tar_id, tar_ing, tar_ofe)))\n",
    "\n",
    "mod = keras.Model((ids, ing, ofe, tar_id, tar_ing, tar_ofe), x)\n",
    "mod.summary()\n"
   ],
   "metadata": {
    "collapsed": false,
    "pycharm": {
     "name": "#%%\n"
    }
   }
  },
  {
   "cell_type": "code",
   "execution_count": 4,
   "outputs": [
    {
     "name": "stdout",
     "output_type": "stream",
     "text": [
      "Model: \"model_2\"\n",
      "__________________________________________________________________________________________________\n",
      " Layer (type)                   Output Shape         Param #     Connected to                     \n",
      "==================================================================================================\n",
      " input_10 (InputLayer)          [(None, 10)]         0           []                               \n",
      "                                                                                                  \n",
      " input_11 (InputLayer)          [(None, 10, 8023)]   0           []                               \n",
      "                                                                                                  \n",
      " input_12 (InputLayer)          [(None, 10, 3)]      0           []                               \n",
      "                                                                                                  \n",
      " input_13 (InputLayer)          [(None, 1)]          0           []                               \n",
      "                                                                                                  \n",
      " input_14 (InputLayer)          [(None, 1, 8023)]    0           []                               \n",
      "                                                                                                  \n",
      " input_15 (InputLayer)          [(None, 1, 3)]       0           []                               \n",
      "                                                                                                  \n",
      " food_recommender_model_self_at  (None, 1)           12689605    ['input_10[0][0]',               \n",
      " tention (FoodRecommenderModelS                                   'input_11[0][0]',               \n",
      " elfAttention)                                                    'input_12[0][0]',               \n",
      "                                                                  'input_13[0][0]',               \n",
      "                                                                  'input_14[0][0]',               \n",
      "                                                                  'input_15[0][0]']               \n",
      "                                                                                                  \n",
      "==================================================================================================\n",
      "Total params: 12,689,605\n",
      "Trainable params: 12,689,605\n",
      "Non-trainable params: 0\n",
      "__________________________________________________________________________________________________\n"
     ]
    }
   ],
   "source": [
    "from FoodRecommenderModelSelfAttention import FoodRecommenderModelSelfAttention\n",
    "import tensorflow as tf\n",
    "import keras\n",
    "\n",
    "ids, ing, ofe = tf.keras.Input(shape=[SEQ_LEN]), tf.keras.Input(shape=[SEQ_LEN, NUM_ING]), tf.keras.Input(\n",
    "    shape=[SEQ_LEN, OTHER_FEATURES])\n",
    "tar_id, tar_ing, tar_ofe = tf.keras.Input(shape=[1]), tf.keras.Input(shape=[1, NUM_ING]), tf.keras.Input(\n",
    "    shape=[1, OTHER_FEATURES])\n",
    "\n",
    "x = FoodRecommenderModelSelfAttention()(((ids, ing, ofe), (tar_id, tar_ing, tar_ofe)))\n",
    "\n",
    "mod = keras.Model((ids, ing, ofe, tar_id, tar_ing, tar_ofe), x)\n",
    "mod.summary()\n"
   ],
   "metadata": {
    "collapsed": false,
    "pycharm": {
     "name": "#%%\n"
    }
   }
  }
 ],
 "metadata": {
  "kernelspec": {
   "display_name": "Python 3",
   "language": "python",
   "name": "python3"
  },
  "language_info": {
   "codemirror_mode": {
    "name": "ipython",
    "version": 2
   },
   "file_extension": ".py",
   "mimetype": "text/x-python",
   "name": "python",
   "nbconvert_exporter": "python",
   "pygments_lexer": "ipython2",
   "version": "2.7.6"
  }
 },
 "nbformat": 4,
 "nbformat_minor": 0
}